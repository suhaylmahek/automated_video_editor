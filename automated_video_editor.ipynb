{
 "cells": [
  {
   "cell_type": "markdown",
   "id": "c520738e",
   "metadata": {},
   "source": [
    "# Audio Syncronizer\n",
    "\n",
    "We have built a program which synchronises an audio clip to a video clip based on the tempo in the audio. The basic principle is, when the tempo in the audio clip is high, the video speeds up proportionally, similarly when the tempo is low, the video slows down proportionally. Additionally, we add a transition at the moment a beat occurs. This creates a symphony between the users auditory and visual sensory input, giving a more immersive experience of the output."
   ]
  },
  {
   "cell_type": "code",
   "execution_count": 1,
   "id": "351d675d",
   "metadata": {},
   "outputs": [],
   "source": [
    "# Importing the required libraries\n",
    "\n",
    "import os, sys\n",
    "import numpy as np\n",
    "import librosa\n",
    "from scipy import signal\n",
    "from scipy.interpolate import interp1d\n",
    "from scipy.ndimage import filters\n",
    "from matplotlib import pyplot as plt\n",
    "import matplotlib.gridspec as gridspec\n",
    "import IPython.display as ipd\n",
    "from numba import jit\n",
    "\n",
    "\n",
    "import libfmp.b\n",
    "import libfmp.c2\n",
    "import libfmp.c3\n",
    "import libfmp.c6\n",
    "import wave\n",
    "import contextlib\n",
    "\n",
    "from moviepy.editor import *\n",
    "\n",
    "%matplotlib inline\n",
    "sys.path.append('..')"
   ]
  },
  {
   "cell_type": "markdown",
   "id": "e4247bc7",
   "metadata": {},
   "source": [
    "Now, we import the audio file and the video file in the  to be synchronised. We also specify the maximum allowed duration of the final clip (in seconds)."
   ]
  },
  {
   "cell_type": "code",
   "execution_count": 446,
   "id": "c6361476",
   "metadata": {},
   "outputs": [],
   "source": [
    "audio_clip = r\"C:\\Users\\Suhayl Mahek\\Downloads\\test_8.wav\"\n",
    "video_clip = r\"C:\\Users\\Suhayl Mahek\\Downloads\\lake.mp4\"\n",
    "duration = 20"
   ]
  },
  {
   "cell_type": "markdown",
   "id": "01ec7d32",
   "metadata": {},
   "source": [
    "Computing Fourier-based tempogram [FMP, Section 6.2.2]\n",
    "\n",
    "    (Reference Notebook: C6/C6S2_TempogramFourier.ipynb)\n",
    "\n",
    "    The function has follwing arguments (with type):\n",
    "        x (np.ndarray): Input signal\n",
    "        Fs (scalar): Sampling rate\n",
    "        N (int): Window length\n",
    "        H (int): Hop size\n",
    "        Theta (np.ndarray): Set of tempi (given in BPM) (Default value = np.arange(30, 601, 1))\n",
    "\n",
    "    THe function returns:\n",
    "        X (np.ndarray): Tempogram\n",
    "        T_coef (np.ndarray): Time axis (seconds)\n",
    "        F_coef_BPM (np.ndarray): Tempo axis (BPM)"
   ]
  },
  {
   "cell_type": "code",
   "execution_count": 447,
   "id": "19231b71",
   "metadata": {},
   "outputs": [],
   "source": [
    "def compute_tempogram_fourier(x, Fs, N, H, Theta=np.arange(30, 601, 1)):\n",
    "    win = np.hanning(N)\n",
    "    N_left = N // 2\n",
    "    L = x.shape[0]\n",
    "    L_left = N_left\n",
    "    L_right = N_left\n",
    "    L_pad = L + L_left + L_right\n",
    "    x_pad = np.concatenate((np.zeros(L_left), x, np.zeros(L_right)))\n",
    "    t_pad = np.arange(L_pad)\n",
    "    M = int(np.floor(L_pad - N) / H) + 1\n",
    "    K = len(Theta)\n",
    "    X = np.zeros((K, M), dtype=np.complex_)\n",
    "\n",
    "    for k in range(K):\n",
    "        omega = (Theta[k] / 60) / Fs\n",
    "        exponential = np.exp(-2 * np.pi * 1j * omega * t_pad)\n",
    "        x_exp = x_pad * exponential\n",
    "        for n in range(M):\n",
    "            t_0 = n * H\n",
    "            t_1 = t_0 + N\n",
    "            X[k, n] = np.sum(win * x_exp[t_0:t_1])\n",
    "        T_coef = np.arange(M) * H / Fs\n",
    "        F_coef_BPM = Theta\n",
    "    return X, T_coef, F_coef_BPM"
   ]
  },
  {
   "cell_type": "markdown",
   "id": "0e355151",
   "metadata": {},
   "source": []
  },
  {
   "cell_type": "code",
   "execution_count": 449,
   "id": "ea492936",
   "metadata": {},
   "outputs": [],
   "source": [
    "def plot_function_peak_positions(nov, Fs_nov, peaks, title='', figsize=(8,2)):\n",
    "    peaks_sec = peaks/Fs_nov\n",
    "    fig, ax, line = libfmp.b.plot_signal(nov, Fs_nov, figsize=figsize, color='k', title=title);\n",
    "    plt.vlines(peaks_sec, 0, 1.1, color='r', linestyle=':', linewidth=1);\n"
   ]
  },
  {
   "cell_type": "code",
   "execution_count": null,
   "id": "695b6526",
   "metadata": {},
   "outputs": [],
   "source": [
    "fn_wav = os.path.join('..', 'data', 'C6', audio_clip)\n",
    "# Sampling Frequency\n",
    "Fs = 22050\n",
    "\n",
    "# audio_clip\n",
    "x = librosa.load(fn_wav) \n",
    "\n",
    "#Novelty curve\n",
    "nov, Fs_nov = libfmp.c6.compute_novelty_spectrum(x[0], Fs=Fs, N=2048, H=512, gamma=100, M=10, norm=True)\n",
    "nov, Fs_nov = libfmp.c6.resample_signal(nov, Fs_in=Fs_nov, Fs_out=100)\n",
    "\n",
    "N = 500 #corresponding to 5 seconds (Fs_nov = 100)\n",
    "H = 10\n",
    "Theta = np.arange(30, 601)\n",
    "X, T_coef, F_coef_BPM = compute_tempogram_fourier(nov, Fs_nov, N=N, H=H, Theta=Theta)\n",
    "tempogram = np.abs(X)\n",
    "\n",
    "fig, ax = plt.subplots(2, 2, gridspec_kw={'width_ratios': [1, 0.05], \n",
    "                                          'height_ratios': [1, 2]}, figsize=(8,5))        \n",
    "libfmp.b.plot_signal(nov, Fs_nov, ax=ax[0,0], color='k', title='Novelty function')\n",
    "ax[0,1].set_axis_off()\n",
    "libfmp.b.plot_matrix(tempogram, T_coef=T_coef, F_coef=F_coef_BPM, ax=[ax[1,0], ax[1,1]], \n",
    "                     title='Fourier tempogram', ylabel='Tempo (BPM)', colorbar=True);\n",
    "plt.tight_layout()\n"
   ]
  },
  {
   "cell_type": "code",
   "execution_count": null,
   "id": "75e3e532",
   "metadata": {},
   "outputs": [],
   "source": [
    "# Prominence is adjustable\n",
    "prominence = 0.3\n",
    "peaks = signal.find_peaks(nov, prominence=prominence)[0]\n",
    "title='Scipy peak picking (prominence=%.2f)'%prominence\n",
    "plot_function_peak_positions(nov, Fs_nov, peaks, title)"
   ]
  },
  {
   "cell_type": "code",
   "execution_count": 451,
   "id": "6d33446c",
   "metadata": {},
   "outputs": [
    {
     "name": "stdout",
     "output_type": "stream",
     "text": [
      "[ 32  54  65  76 109 121 163 207 218 230 251 295 339 383 425 471 492 513\n",
      " 557 569 579 601 646 667 689 733]\n"
     ]
    }
   ],
   "source": [
    "print(peaks)\n",
    "# Peak position in milliseconds\n",
    "peak=[]\n",
    "for i in range(len(peaks)):\n",
    "    peak.append(peaks[i]/100)"
   ]
  },
  {
   "cell_type": "code",
   "execution_count": 452,
   "id": "02debc32",
   "metadata": {},
   "outputs": [],
   "source": [
    "max_d=0\n",
    "a=0\n",
    "tempo=[]\n",
    "for j in range(len(T_coef)):\n",
    "    tempo.append(F_coef_BPM[a])\n",
    "    max_d=(tempogram[0][j])\n",
    "    i=0\n",
    "    while i<(len(F_coef_BPM)):\n",
    "        if tempogram[i][j]>=max_d:\n",
    "            max_d=tempogram[i][j]\n",
    "            a=i\n",
    "            i+=1\n",
    "        else:\n",
    "            i+=1"
   ]
  },
  {
   "cell_type": "code",
   "execution_count": null,
   "id": "a35d8a3d",
   "metadata": {},
   "outputs": [],
   "source": [
    "import matplotlib.pyplot as plt\n",
    "plt.plot(T_coef, tempo)  # Plot the chart\n",
    "for i in range(len(peaks)):\n",
    "    plt.vlines(peak[i],0,300,'red')\n",
    "plt.show()"
   ]
  },
  {
   "cell_type": "code",
   "execution_count": 454,
   "id": "f097a865",
   "metadata": {},
   "outputs": [],
   "source": [
    "peak.insert(0,0.0)"
   ]
  },
  {
   "cell_type": "code",
   "execution_count": 455,
   "id": "d76b8c55",
   "metadata": {},
   "outputs": [],
   "source": [
    "# Calculating Areas between peaks. The area corresponds to number of beats\n",
    "\n",
    "count=0\n",
    "k=0\n",
    "j=0\n",
    "area=0\n",
    "areas=[]\n",
    "while  j<(len(peak)):\n",
    "    \n",
    "    area=0\n",
    "    while k<=peak[j]:\n",
    "        area+=tempo[int(k*10)]*0.1\n",
    "        k+=0.1\n",
    "    #print(area)\n",
    "    j+=1\n",
    "    areas.append(area)\n",
    "#areas.append(area)"
   ]
  },
  {
   "cell_type": "code",
   "execution_count": 456,
   "id": "11ee3c5e",
   "metadata": {},
   "outputs": [
    {
     "name": "stdout",
     "output_type": "stream",
     "text": [
      "[3.0, 165.0, 109.80000000000001, 54.900000000000006, 54.900000000000006, 164.70000000000002, 109.80000000000001, 219.20000000000002, 219.20000000000002, 54.800000000000004, 54.800000000000004, 164.4, 219.20000000000002, 218.8, 273.90000000000003, 219.20000000000002, 274.0, 109.60000000000001, 109.60000000000001, 219.20000000000002, 54.800000000000004, 54.800000000000004, 164.4, 219.20000000000002, 109.60000000000001, 109.60000000000001, 274.0]\n",
      "No of sections =  27\n"
     ]
    }
   ],
   "source": [
    "print(areas)\n",
    "print(\"No of sections = \", len(areas))"
   ]
  },
  {
   "cell_type": "code",
   "execution_count": 457,
   "id": "9868b59b",
   "metadata": {},
   "outputs": [
    {
     "data": {
      "text/plain": [
       "4004.3999999999996"
      ]
     },
     "execution_count": 457,
     "metadata": {},
     "output_type": "execute_result"
    }
   ],
   "source": [
    "total_area=sum(areas)\n",
    "s = 0\n",
    "for i in areas:\n",
    "    s = s + i\n",
    "s"
   ]
  },
  {
   "cell_type": "code",
   "execution_count": 458,
   "id": "3c929bde",
   "metadata": {},
   "outputs": [],
   "source": [
    "percentages=[]\n",
    "for i in areas:\n",
    "    percentages.append(round((i/total_area),4))\n",
    "ddd"
   ]
  },
  {
   "cell_type": "code",
   "execution_count": 459,
   "id": "3a8b0681",
   "metadata": {},
   "outputs": [
    {
     "data": {
      "text/plain": [
       "[0.0007,\n",
       " 0.0412,\n",
       " 0.0274,\n",
       " 0.0137,\n",
       " 0.0137,\n",
       " 0.0411,\n",
       " 0.0274,\n",
       " 0.0547,\n",
       " 0.0547,\n",
       " 0.0137,\n",
       " 0.0137,\n",
       " 0.0411,\n",
       " 0.0547,\n",
       " 0.0546,\n",
       " 0.0684,\n",
       " 0.0547,\n",
       " 0.0684,\n",
       " 0.0274,\n",
       " 0.0274,\n",
       " 0.0547,\n",
       " 0.0137,\n",
       " 0.0137,\n",
       " 0.0411,\n",
       " 0.0547,\n",
       " 0.0274,\n",
       " 0.0274,\n",
       " 0.0684]"
      ]
     },
     "execution_count": 459,
     "metadata": {},
     "output_type": "execute_result"
    }
   ],
   "source": [
    "percentages"
   ]
  },
  {
   "cell_type": "code",
   "execution_count": null,
   "id": "e3fd7dd2",
   "metadata": {},
   "outputs": [],
   "source": []
  },
  {
   "cell_type": "code",
   "execution_count": 460,
   "id": "09e7cfe3",
   "metadata": {},
   "outputs": [],
   "source": [
    "clip = VideoFileClip(video_clip)"
   ]
  },
  {
   "cell_type": "code",
   "execution_count": 461,
   "id": "999d6bf3",
   "metadata": {},
   "outputs": [],
   "source": [
    "t=0.3"
   ]
  },
  {
   "cell_type": "code",
   "execution_count": 462,
   "id": "e5cd3c95",
   "metadata": {},
   "outputs": [
    {
     "name": "stdout",
     "output_type": "stream",
     "text": [
      "9.19\n",
      "1.3899999999999997\n"
     ]
    }
   ],
   "source": [
    "####\n",
    "duration = min((clip.duration-len(peaks)*t),peak[-1],duration)\n",
    "print(clip.duration)\n",
    "print(clip.duration-len(peaks)*t)\n",
    "    "
   ]
  },
  {
   "cell_type": "code",
   "execution_count": 463,
   "id": "1593152a",
   "metadata": {},
   "outputs": [
    {
     "name": "stdout",
     "output_type": "stream",
     "text": [
      "1.3899999999999997\n"
     ]
    }
   ],
   "source": [
    "print(duration)"
   ]
  },
  {
   "cell_type": "code",
   "execution_count": 464,
   "id": "ae2eec74",
   "metadata": {},
   "outputs": [],
   "source": [
    "audio_ranges=[]\n",
    "count=0.0\n",
    "#audio_ranges.append([0.0,peak[0]])\n",
    "for i in range(len(peak)-1):\n",
    "    audio_ranges.append([round(peak[i],4), round(peak[i+1],4)])\n",
    "    count+=peak[i]\n",
    "    "
   ]
  },
  {
   "cell_type": "code",
   "execution_count": 465,
   "id": "bef81fdc",
   "metadata": {},
   "outputs": [],
   "source": [
    "video_duration = clip.duration"
   ]
  },
  {
   "cell_type": "code",
   "execution_count": 466,
   "id": "9ccf037c",
   "metadata": {},
   "outputs": [],
   "source": [
    "#######\n",
    "video_markers=[]\n",
    "for percent in percentages:\n",
    "    video_markers.append(round(percent*video_duration,4))"
   ]
  },
  {
   "cell_type": "code",
   "execution_count": 467,
   "id": "d71cda4c",
   "metadata": {},
   "outputs": [
    {
     "name": "stdout",
     "output_type": "stream",
     "text": [
      "[0.0064, 0.3786, 0.2518, 0.1259, 0.1259, 0.3777, 0.2518, 0.5027, 0.5027, 0.1259, 0.1259, 0.3777, 0.5027, 0.5018, 0.6286, 0.5027, 0.6286, 0.2518, 0.2518, 0.5027, 0.1259, 0.1259, 0.3777, 0.5027, 0.2518, 0.2518, 0.6286]\n"
     ]
    }
   ],
   "source": [
    "print(video_markers)"
   ]
  },
  {
   "cell_type": "code",
   "execution_count": 468,
   "id": "c9bfdd31",
   "metadata": {},
   "outputs": [
    {
     "data": {
      "text/plain": [
       "9.188099999999999"
      ]
     },
     "execution_count": 468,
     "metadata": {},
     "output_type": "execute_result"
    }
   ],
   "source": [
    "sum(video_markers)"
   ]
  },
  {
   "cell_type": "code",
   "execution_count": 469,
   "id": "a99afb0d",
   "metadata": {},
   "outputs": [
    {
     "data": {
      "text/plain": [
       "27"
      ]
     },
     "execution_count": 469,
     "metadata": {},
     "output_type": "execute_result"
    }
   ],
   "source": [
    "len(video_markers)"
   ]
  },
  {
   "cell_type": "code",
   "execution_count": 470,
   "id": "568a9a44",
   "metadata": {},
   "outputs": [],
   "source": [
    "\n",
    "video_ranges=[]\n",
    "count=0.0\n",
    "#t=(duration_audio*0.3)/len(peaks)\n",
    "for i in range(1, len(video_markers)):\n",
    "    video_ranges.append([round(count,1), round(count+video_markers[i],1)]) \n",
    "    count+=(video_markers[i]+t)\n",
    "  \n"
   ]
  },
  {
   "cell_type": "code",
   "execution_count": 471,
   "id": "f26e1afc",
   "metadata": {},
   "outputs": [
    {
     "name": "stdout",
     "output_type": "stream",
     "text": [
      "26\n",
      "[[0.0, 0.4], [0.7, 0.9], [1.2, 1.4], [1.7, 1.8], [2.1, 2.5], [2.8, 3.0], [3.3, 3.8], [4.1, 4.6], [4.9, 5.0], [5.3, 5.5], [5.8, 6.1], [6.4, 6.9], [7.2, 7.8], [8.1, 8.7], [9.0, 9.5], [9.8, 10.4], [10.7, 11.0], [11.3, 11.5], [11.8, 12.3], [12.6, 12.7], [13.0, 13.2], [13.5, 13.8], [14.1, 14.6], [14.9, 15.2], [15.5, 15.8], [16.1, 16.7]]\n",
      "26\n",
      "[[0.0, 0.32], [0.32, 0.54], [0.54, 0.65], [0.65, 0.76], [0.76, 1.09], [1.09, 1.21], [1.21, 1.63], [1.63, 2.07], [2.07, 2.18], [2.18, 2.3], [2.3, 2.51], [2.51, 2.95], [2.95, 3.39], [3.39, 3.83], [3.83, 4.25], [4.25, 4.71], [4.71, 4.92], [4.92, 5.13], [5.13, 5.57], [5.57, 5.69], [5.69, 5.79], [5.79, 6.01], [6.01, 6.46], [6.46, 6.67], [6.67, 6.89], [6.89, 7.33]]\n",
      "16.9817\n"
     ]
    }
   ],
   "source": [
    "print(len(video_ranges))\n",
    "print(video_ranges)\n",
    "print(len(audio_ranges))\n",
    "print(audio_ranges)\n",
    "print(count)"
   ]
  },
  {
   "cell_type": "code",
   "execution_count": 472,
   "id": "53859018",
   "metadata": {},
   "outputs": [
    {
     "name": "stdout",
     "output_type": "stream",
     "text": [
      "0.8\n",
      "1.1\n",
      "0.55\n",
      "1.1\n",
      "0.83\n",
      "0.6\n",
      "0.84\n",
      "0.88\n",
      "1.1\n",
      "0.6\n",
      "0.7\n",
      "0.88\n",
      "0.73\n",
      "0.73\n",
      "0.84\n"
     ]
    }
   ],
   "source": [
    "\n",
    "f = 0.0\n",
    "clips=[]\n",
    "for i in range(len(video_ranges)):\n",
    "    tempclip = clip.subclip(video_ranges[i][0],video_ranges[i][1])    \n",
    "    f = round((audio_ranges[i][1]-audio_ranges[i][0])/(video_ranges[i][1]-video_ranges[i][0]),2)\n",
    "    print(f)\n",
    "    a=f*f\n",
    "    #if a> 1:\n",
    "    #    a*=1.5\n",
    "    #elif a<1:\n",
    "    #    a*=0.5\n",
    "    #elif a==1:\n",
    "    #    a*=1\n",
    "    tempclip = tempclip.fx(vfx.speedx,1/f)\n",
    "    clips.append(tempclip)\n",
    "    if(video_ranges[i+1][0]>video_duration):\n",
    "        break\n",
    "    #final = concatenate_videoclips([final,tempclip])"
   ]
  },
  {
   "cell_type": "code",
   "execution_count": 473,
   "id": "d74b4cab",
   "metadata": {},
   "outputs": [
    {
     "data": {
      "text/plain": [
       "15"
      ]
     },
     "execution_count": 473,
     "metadata": {},
     "output_type": "execute_result"
    }
   ],
   "source": [
    "len(clips)"
   ]
  },
  {
   "cell_type": "code",
   "execution_count": 474,
   "id": "f46573ee",
   "metadata": {},
   "outputs": [
    {
     "name": "stdout",
     "output_type": "stream",
     "text": [
      "0.0060000000000023646\n"
     ]
    }
   ],
   "source": [
    "difference=0\n",
    "for j in range(len(clips)):\n",
    "    clip_time=clips[j].duration\n",
    "    audio_time=(audio_ranges[j][1]-audio_ranges[j][0])\n",
    "    difference+=abs(audio_time-clip_time)\n",
    "print(difference)"
   ]
  },
  {
   "cell_type": "code",
   "execution_count": 475,
   "id": "7f8356c5",
   "metadata": {},
   "outputs": [],
   "source": [
    "final = concatenate_videoclips(clips)\n",
    "audio = AudioFileClip(audio_clip)\n",
    "duration=final.duration\n",
    "#final.audio = CompositeAudioClip([audio])\n",
    "\n",
    "final = final.set_audio(audio)\n",
    "#final = final.subclip(0, duration)\n"
   ]
  },
  {
   "cell_type": "code",
   "execution_count": 476,
   "id": "79b2958e",
   "metadata": {},
   "outputs": [
    {
     "name": "stdout",
     "output_type": "stream",
     "text": [
      "4.247999999999999\n"
     ]
    }
   ],
   "source": [
    "print(duration)"
   ]
  },
  {
   "cell_type": "code",
   "execution_count": 477,
   "id": "05eaa03b",
   "metadata": {},
   "outputs": [],
   "source": [
    "end_clip=final.subclip(0,duration)"
   ]
  },
  {
   "cell_type": "code",
   "execution_count": null,
   "id": "e69f5c1e",
   "metadata": {},
   "outputs": [],
   "source": [
    "end_clip.ipython_display()"
   ]
  },
  {
   "cell_type": "code",
   "execution_count": 445,
   "id": "7eaed509",
   "metadata": {},
   "outputs": [
    {
     "name": "stderr",
     "output_type": "stream",
     "text": [
      "                                                                                                                       "
     ]
    },
    {
     "name": "stdout",
     "output_type": "stream",
     "text": [
      "Moviepy - Building video edited_nebula.mp4.\n",
      "MoviePy - Writing audio in edited_nebulaTEMP_MPY_wvf_snd.mp3\n",
      "MoviePy - Done.\n",
      "Moviepy - Writing video edited_nebula.mp4\n",
      "\n"
     ]
    },
    {
     "name": "stderr",
     "output_type": "stream",
     "text": [
      "                                                                                                                       \r"
     ]
    },
    {
     "name": "stdout",
     "output_type": "stream",
     "text": [
      "Moviepy - Done !\n",
      "Moviepy - video ready edited_nebula.mp4\n"
     ]
    }
   ],
   "source": [
    "end_clip.write_videofile(\"edited_nebula.mp4\")"
   ]
  },
  {
   "cell_type": "code",
   "execution_count": null,
   "id": "46b1af14",
   "metadata": {},
   "outputs": [],
   "source": []
  }
 ],
 "metadata": {
  "kernelspec": {
   "display_name": "Python 3 (ipykernel)",
   "language": "python",
   "name": "python3"
  },
  "language_info": {
   "codemirror_mode": {
    "name": "ipython",
    "version": 3
   },
   "file_extension": ".py",
   "mimetype": "text/x-python",
   "name": "python",
   "nbconvert_exporter": "python",
   "pygments_lexer": "ipython3",
   "version": "3.11.5"
  }
 },
 "nbformat": 4,
 "nbformat_minor": 5
}
